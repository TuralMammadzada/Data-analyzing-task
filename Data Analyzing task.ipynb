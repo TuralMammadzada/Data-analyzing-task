{
 "cells": [
  {
   "cell_type": "code",
   "execution_count": 42,
   "metadata": {},
   "outputs": [
    {
     "data": {
      "text/plain": [
       "'C:\\\\Users\\\\Acer\\\\Downloads'"
      ]
     },
     "execution_count": 42,
     "metadata": {},
     "output_type": "execute_result"
    }
   ],
   "source": [
    "import os \n",
    "os.chdir('C:\\\\Users\\\\Acer\\\\Downloads')\n",
    "os.getcwd()"
   ]
  },
  {
   "cell_type": "code",
   "execution_count": 43,
   "metadata": {},
   "outputs": [],
   "source": [
    "import pandas as pd\n",
    "import numpy as np"
   ]
  },
  {
   "cell_type": "code",
   "execution_count": 44,
   "metadata": {},
   "outputs": [],
   "source": [
    "data = pd.read_excel(r'C:\\\\Users\\\\Acer\\\\Downloads\\New folder\\Task Data.xlsx')"
   ]
  },
  {
   "cell_type": "code",
   "execution_count": 45,
   "metadata": {},
   "outputs": [
    {
     "data": {
      "text/html": [
       "<div>\n",
       "<style scoped>\n",
       "    .dataframe tbody tr th:only-of-type {\n",
       "        vertical-align: middle;\n",
       "    }\n",
       "\n",
       "    .dataframe tbody tr th {\n",
       "        vertical-align: top;\n",
       "    }\n",
       "\n",
       "    .dataframe thead th {\n",
       "        text-align: right;\n",
       "    }\n",
       "</style>\n",
       "<table border=\"1\" class=\"dataframe\">\n",
       "  <thead>\n",
       "    <tr style=\"text-align: right;\">\n",
       "      <th></th>\n",
       "      <th>Customer ID</th>\n",
       "      <th>Name &amp; Surname</th>\n",
       "      <th>Birth Date</th>\n",
       "      <th>Sold date</th>\n",
       "      <th>Unit</th>\n",
       "      <th>Unit Price</th>\n",
       "      <th>Annual Income</th>\n",
       "      <th>Gender</th>\n",
       "      <th>City</th>\n",
       "      <th>Location</th>\n",
       "      <th>Comments</th>\n",
       "    </tr>\n",
       "  </thead>\n",
       "  <tbody>\n",
       "    <tr>\n",
       "      <th>0</th>\n",
       "      <td>LL1000</td>\n",
       "      <td>Eunice Bird</td>\n",
       "      <td>1995-08-03</td>\n",
       "      <td>2017-05-27</td>\n",
       "      <td>7</td>\n",
       "      <td>62</td>\n",
       "      <td>6676</td>\n",
       "      <td>m</td>\n",
       "      <td>Barcelona</td>\n",
       "      <td>West</td>\n",
       "      <td>So good</td>\n",
       "    </tr>\n",
       "    <tr>\n",
       "      <th>1</th>\n",
       "      <td>LL1001</td>\n",
       "      <td>James Gross</td>\n",
       "      <td>1982-02-12</td>\n",
       "      <td>2015-11-21</td>\n",
       "      <td>17</td>\n",
       "      <td>29</td>\n",
       "      <td>13471</td>\n",
       "      <td>m</td>\n",
       "      <td>Barcelona</td>\n",
       "      <td>West</td>\n",
       "      <td>Confused</td>\n",
       "    </tr>\n",
       "    <tr>\n",
       "      <th>2</th>\n",
       "      <td>LL1002</td>\n",
       "      <td>Wilmer Atkinson</td>\n",
       "      <td>1962-01-01</td>\n",
       "      <td>2019-01-13</td>\n",
       "      <td>15</td>\n",
       "      <td>84</td>\n",
       "      <td>8361</td>\n",
       "      <td>f</td>\n",
       "      <td>Brussel</td>\n",
       "      <td>West</td>\n",
       "      <td>It was bad</td>\n",
       "    </tr>\n",
       "    <tr>\n",
       "      <th>3</th>\n",
       "      <td>LL1003</td>\n",
       "      <td>Les Pena</td>\n",
       "      <td>1976-04-23</td>\n",
       "      <td>2017-03-26</td>\n",
       "      <td>30</td>\n",
       "      <td>97</td>\n",
       "      <td>16759</td>\n",
       "      <td>f</td>\n",
       "      <td>Stockholm</td>\n",
       "      <td>North</td>\n",
       "      <td>I did not like it, it was bad</td>\n",
       "    </tr>\n",
       "    <tr>\n",
       "      <th>4</th>\n",
       "      <td>LL1004</td>\n",
       "      <td>Britt Knight</td>\n",
       "      <td>1996-05-16</td>\n",
       "      <td>2015-05-23</td>\n",
       "      <td>6</td>\n",
       "      <td>70</td>\n",
       "      <td>19397</td>\n",
       "      <td>m</td>\n",
       "      <td>Copenhagen</td>\n",
       "      <td>North</td>\n",
       "      <td>That's the thing I want. Very good profuct</td>\n",
       "    </tr>\n",
       "  </tbody>\n",
       "</table>\n",
       "</div>"
      ],
      "text/plain": [
       "  Customer ID    Name & Surname Birth Date  Sold date Unit Unit Price  \\\n",
       "0      LL1000       Eunice Bird 1995-08-03 2017-05-27    7         62   \n",
       "1      LL1001       James Gross 1982-02-12 2015-11-21   17         29   \n",
       "2      LL1002   Wilmer Atkinson 1962-01-01 2019-01-13   15         84   \n",
       "3      LL1003          Les Pena 1976-04-23 2017-03-26   30         97   \n",
       "4      LL1004      Britt Knight 1996-05-16 2015-05-23    6         70   \n",
       "\n",
       "  Annual Income Gender        City Location  \\\n",
       "0          6676      m   Barcelona     West   \n",
       "1         13471      m   Barcelona     West   \n",
       "2          8361      f     Brussel     West   \n",
       "3         16759      f   Stockholm    North   \n",
       "4         19397      m  Copenhagen    North   \n",
       "\n",
       "                                     Comments  \n",
       "0                                     So good  \n",
       "1                                    Confused  \n",
       "2                                  It was bad  \n",
       "3               I did not like it, it was bad  \n",
       "4  That's the thing I want. Very good profuct  "
      ]
     },
     "execution_count": 45,
     "metadata": {},
     "output_type": "execute_result"
    }
   ],
   "source": [
    "data.head()"
   ]
  },
  {
   "cell_type": "code",
   "execution_count": 46,
   "metadata": {},
   "outputs": [
    {
     "name": "stdout",
     "output_type": "stream",
     "text": [
      "<class 'pandas.core.frame.DataFrame'>\n",
      "RangeIndex: 2000 entries, 0 to 1999\n",
      "Data columns (total 11 columns):\n",
      "Customer ID       2000 non-null object\n",
      "Name & Surname    2000 non-null object\n",
      "Birth Date        2000 non-null datetime64[ns]\n",
      "Sold date         2000 non-null datetime64[ns]\n",
      "Unit              2000 non-null object\n",
      "Unit Price        2000 non-null object\n",
      "Annual Income     2000 non-null object\n",
      "Gender            2000 non-null object\n",
      "City              2000 non-null object\n",
      "Location          1951 non-null object\n",
      "Comments          2000 non-null object\n",
      "dtypes: datetime64[ns](2), object(9)\n",
      "memory usage: 172.0+ KB\n"
     ]
    }
   ],
   "source": [
    "data.info()"
   ]
  },
  {
   "cell_type": "code",
   "execution_count": 47,
   "metadata": {},
   "outputs": [],
   "source": [
    "numerics = ['Unit','Unit Price','Annual Income']"
   ]
  },
  {
   "cell_type": "code",
   "execution_count": 48,
   "metadata": {},
   "outputs": [],
   "source": [
    "for i in numerics:\n",
    "    data[i]= pd.to_numeric(data[i], errors = 'coerce')"
   ]
  },
  {
   "cell_type": "markdown",
   "metadata": {},
   "source": [
    "### 1"
   ]
  },
  {
   "cell_type": "code",
   "execution_count": 49,
   "metadata": {},
   "outputs": [
    {
     "data": {
      "text/plain": [
       "26784714.0"
      ]
     },
     "execution_count": 49,
     "metadata": {},
     "output_type": "execute_result"
    }
   ],
   "source": [
    "data['Annual Income'].sum()"
   ]
  },
  {
   "cell_type": "code",
   "execution_count": 50,
   "metadata": {},
   "outputs": [],
   "source": [
    "data['Annual Income'] = data['Annual Income'].fillna(data['Annual Income'].mean())"
   ]
  },
  {
   "cell_type": "code",
   "execution_count": 51,
   "metadata": {},
   "outputs": [
    {
     "data": {
      "text/plain": [
       "26892283.13253012"
      ]
     },
     "execution_count": 51,
     "metadata": {},
     "output_type": "execute_result"
    }
   ],
   "source": [
    "data['Annual Income'].sum()"
   ]
  },
  {
   "cell_type": "markdown",
   "metadata": {},
   "source": [
    "### 2 "
   ]
  },
  {
   "cell_type": "code",
   "execution_count": 52,
   "metadata": {
    "scrolled": true
   },
   "outputs": [],
   "source": [
    "data['Age'] = 2019 - data['Birth Date'].dt.year"
   ]
  },
  {
   "cell_type": "code",
   "execution_count": 53,
   "metadata": {},
   "outputs": [
    {
     "data": {
      "text/plain": [
       "60    48\n",
       "66    48\n",
       "42    47\n",
       "Name: Age, dtype: int64"
      ]
     },
     "execution_count": 53,
     "metadata": {},
     "output_type": "execute_result"
    }
   ],
   "source": [
    "data['Age'].value_counts().head(3)"
   ]
  },
  {
   "cell_type": "markdown",
   "metadata": {},
   "source": [
    "### 3"
   ]
  },
  {
   "cell_type": "markdown",
   "metadata": {},
   "source": [
    "##### View"
   ]
  },
  {
   "cell_type": "code",
   "execution_count": 54,
   "metadata": {},
   "outputs": [
    {
     "data": {
      "text/html": [
       "<div>\n",
       "<style scoped>\n",
       "    .dataframe tbody tr th:only-of-type {\n",
       "        vertical-align: middle;\n",
       "    }\n",
       "\n",
       "    .dataframe tbody tr th {\n",
       "        vertical-align: top;\n",
       "    }\n",
       "\n",
       "    .dataframe thead th {\n",
       "        text-align: right;\n",
       "    }\n",
       "</style>\n",
       "<table border=\"1\" class=\"dataframe\">\n",
       "  <thead>\n",
       "    <tr style=\"text-align: right;\">\n",
       "      <th></th>\n",
       "      <th></th>\n",
       "      <th>Unit</th>\n",
       "      <th>Unit Price</th>\n",
       "      <th>Annual Income</th>\n",
       "      <th>Age</th>\n",
       "    </tr>\n",
       "    <tr>\n",
       "      <th>City</th>\n",
       "      <th>Location</th>\n",
       "      <th></th>\n",
       "      <th></th>\n",
       "      <th></th>\n",
       "      <th></th>\n",
       "    </tr>\n",
       "  </thead>\n",
       "  <tbody>\n",
       "    <tr>\n",
       "      <th>Baku</th>\n",
       "      <th>South</th>\n",
       "      <td>16.415459</td>\n",
       "      <td>55.473684</td>\n",
       "      <td>13655.859162</td>\n",
       "      <td>43.047393</td>\n",
       "    </tr>\n",
       "    <tr>\n",
       "      <th>Barcelona</th>\n",
       "      <th>West</th>\n",
       "      <td>17.181818</td>\n",
       "      <td>56.971292</td>\n",
       "      <td>13598.861244</td>\n",
       "      <td>43.377990</td>\n",
       "    </tr>\n",
       "    <tr>\n",
       "      <th>Berlin</th>\n",
       "      <th>Center</th>\n",
       "      <td>17.061404</td>\n",
       "      <td>55.725664</td>\n",
       "      <td>13945.144737</td>\n",
       "      <td>44.250000</td>\n",
       "    </tr>\n",
       "    <tr>\n",
       "      <th>Brussel</th>\n",
       "      <th>West</th>\n",
       "      <td>17.051643</td>\n",
       "      <td>53.333333</td>\n",
       "      <td>13183.216276</td>\n",
       "      <td>40.841121</td>\n",
       "    </tr>\n",
       "    <tr>\n",
       "      <th>Bucharest</th>\n",
       "      <th>East</th>\n",
       "      <td>18.504587</td>\n",
       "      <td>58.129630</td>\n",
       "      <td>13757.348624</td>\n",
       "      <td>41.032110</td>\n",
       "    </tr>\n",
       "    <tr>\n",
       "      <th>Copenhagen</th>\n",
       "      <th>North</th>\n",
       "      <td>17.865613</td>\n",
       "      <td>51.844622</td>\n",
       "      <td>13599.902132</td>\n",
       "      <td>43.082677</td>\n",
       "    </tr>\n",
       "    <tr>\n",
       "      <th>Istanbul</th>\n",
       "      <th>South</th>\n",
       "      <td>17.371429</td>\n",
       "      <td>57.156398</td>\n",
       "      <td>13249.179913</td>\n",
       "      <td>42.754717</td>\n",
       "    </tr>\n",
       "    <tr>\n",
       "      <th>Stockholm</th>\n",
       "      <th>North</th>\n",
       "      <td>17.707547</td>\n",
       "      <td>58.000000</td>\n",
       "      <td>12658.307272</td>\n",
       "      <td>43.396226</td>\n",
       "    </tr>\n",
       "    <tr>\n",
       "      <th>Vienna</th>\n",
       "      <th>Center</th>\n",
       "      <td>18.720207</td>\n",
       "      <td>54.789474</td>\n",
       "      <td>13498.337521</td>\n",
       "      <td>43.217617</td>\n",
       "    </tr>\n",
       "  </tbody>\n",
       "</table>\n",
       "</div>"
      ],
      "text/plain": [
       "                          Unit  Unit Price  Annual Income        Age\n",
       "City       Location                                                 \n",
       "Baku       South     16.415459   55.473684   13655.859162  43.047393\n",
       "Barcelona  West      17.181818   56.971292   13598.861244  43.377990\n",
       "Berlin     Center    17.061404   55.725664   13945.144737  44.250000\n",
       "Brussel    West      17.051643   53.333333   13183.216276  40.841121\n",
       "Bucharest  East      18.504587   58.129630   13757.348624  41.032110\n",
       "Copenhagen North     17.865613   51.844622   13599.902132  43.082677\n",
       "Istanbul   South     17.371429   57.156398   13249.179913  42.754717\n",
       "Stockholm  North     17.707547   58.000000   12658.307272  43.396226\n",
       "Vienna     Center    18.720207   54.789474   13498.337521  43.217617"
      ]
     },
     "execution_count": 54,
     "metadata": {},
     "output_type": "execute_result"
    }
   ],
   "source": [
    "data.groupby(['City','Location']).mean()"
   ]
  },
  {
   "cell_type": "code",
   "execution_count": 55,
   "metadata": {},
   "outputs": [
    {
     "data": {
      "text/plain": [
       "MultiIndex(levels=[['Baku', 'Barcelona', 'Berlin', 'Brussel', 'Bucharest', 'Copenhagen', 'Istanbul', 'Stockholm', 'Vienna'], ['Center', 'East', 'North', 'South', 'West']],\n",
       "           codes=[[0, 1, 2, 3, 4, 5, 6, 7, 8], [3, 4, 0, 4, 1, 2, 3, 2, 0]],\n",
       "           names=['City', 'Location'])"
      ]
     },
     "execution_count": 55,
     "metadata": {},
     "output_type": "execute_result"
    }
   ],
   "source": [
    "data.groupby(['City','Location']).mean().index"
   ]
  },
  {
   "cell_type": "code",
   "execution_count": 56,
   "metadata": {},
   "outputs": [],
   "source": [
    "indexes = data.groupby(['City','Location']).mean().index"
   ]
  },
  {
   "cell_type": "code",
   "execution_count": 57,
   "metadata": {},
   "outputs": [
    {
     "data": {
      "text/plain": [
       "'Berlin'"
      ]
     },
     "execution_count": 57,
     "metadata": {},
     "output_type": "execute_result"
    }
   ],
   "source": [
    "indexes[2][0]"
   ]
  },
  {
   "cell_type": "code",
   "execution_count": 58,
   "metadata": {},
   "outputs": [
    {
     "data": {
      "text/plain": [
       "'Center'"
      ]
     },
     "execution_count": 58,
     "metadata": {},
     "output_type": "execute_result"
    }
   ],
   "source": [
    "indexes[2][1]"
   ]
  },
  {
   "cell_type": "code",
   "execution_count": 59,
   "metadata": {},
   "outputs": [],
   "source": [
    "for i in range(0,len(indexes)):\n",
    "    data.loc[data['City'] == indexes[i][0], 'Location']  = indexes[i][1]"
   ]
  },
  {
   "cell_type": "code",
   "execution_count": 60,
   "metadata": {},
   "outputs": [
    {
     "data": {
      "text/html": [
       "<div>\n",
       "<style scoped>\n",
       "    .dataframe tbody tr th:only-of-type {\n",
       "        vertical-align: middle;\n",
       "    }\n",
       "\n",
       "    .dataframe tbody tr th {\n",
       "        vertical-align: top;\n",
       "    }\n",
       "\n",
       "    .dataframe thead th {\n",
       "        text-align: right;\n",
       "    }\n",
       "</style>\n",
       "<table border=\"1\" class=\"dataframe\">\n",
       "  <thead>\n",
       "    <tr style=\"text-align: right;\">\n",
       "      <th></th>\n",
       "      <th>Customer ID</th>\n",
       "      <th>Name &amp; Surname</th>\n",
       "      <th>Birth Date</th>\n",
       "      <th>Sold date</th>\n",
       "      <th>Unit</th>\n",
       "      <th>Unit Price</th>\n",
       "      <th>Annual Income</th>\n",
       "      <th>Gender</th>\n",
       "      <th>City</th>\n",
       "      <th>Location</th>\n",
       "      <th>Comments</th>\n",
       "      <th>Age</th>\n",
       "    </tr>\n",
       "  </thead>\n",
       "  <tbody>\n",
       "    <tr>\n",
       "      <th>0</th>\n",
       "      <td>LL1000</td>\n",
       "      <td>Eunice Bird</td>\n",
       "      <td>1995-08-03</td>\n",
       "      <td>2017-05-27</td>\n",
       "      <td>7.0</td>\n",
       "      <td>62.0</td>\n",
       "      <td>6676.0</td>\n",
       "      <td>m</td>\n",
       "      <td>Barcelona</td>\n",
       "      <td>West</td>\n",
       "      <td>So good</td>\n",
       "      <td>24</td>\n",
       "    </tr>\n",
       "    <tr>\n",
       "      <th>1</th>\n",
       "      <td>LL1001</td>\n",
       "      <td>James Gross</td>\n",
       "      <td>1982-02-12</td>\n",
       "      <td>2015-11-21</td>\n",
       "      <td>17.0</td>\n",
       "      <td>29.0</td>\n",
       "      <td>13471.0</td>\n",
       "      <td>m</td>\n",
       "      <td>Barcelona</td>\n",
       "      <td>West</td>\n",
       "      <td>Confused</td>\n",
       "      <td>37</td>\n",
       "    </tr>\n",
       "    <tr>\n",
       "      <th>2</th>\n",
       "      <td>LL1002</td>\n",
       "      <td>Wilmer Atkinson</td>\n",
       "      <td>1962-01-01</td>\n",
       "      <td>2019-01-13</td>\n",
       "      <td>15.0</td>\n",
       "      <td>84.0</td>\n",
       "      <td>8361.0</td>\n",
       "      <td>f</td>\n",
       "      <td>Brussel</td>\n",
       "      <td>West</td>\n",
       "      <td>It was bad</td>\n",
       "      <td>57</td>\n",
       "    </tr>\n",
       "    <tr>\n",
       "      <th>3</th>\n",
       "      <td>LL1003</td>\n",
       "      <td>Les Pena</td>\n",
       "      <td>1976-04-23</td>\n",
       "      <td>2017-03-26</td>\n",
       "      <td>30.0</td>\n",
       "      <td>97.0</td>\n",
       "      <td>16759.0</td>\n",
       "      <td>f</td>\n",
       "      <td>Stockholm</td>\n",
       "      <td>North</td>\n",
       "      <td>I did not like it, it was bad</td>\n",
       "      <td>43</td>\n",
       "    </tr>\n",
       "    <tr>\n",
       "      <th>4</th>\n",
       "      <td>LL1004</td>\n",
       "      <td>Britt Knight</td>\n",
       "      <td>1996-05-16</td>\n",
       "      <td>2015-05-23</td>\n",
       "      <td>6.0</td>\n",
       "      <td>70.0</td>\n",
       "      <td>19397.0</td>\n",
       "      <td>m</td>\n",
       "      <td>Copenhagen</td>\n",
       "      <td>North</td>\n",
       "      <td>That's the thing I want. Very good profuct</td>\n",
       "      <td>23</td>\n",
       "    </tr>\n",
       "  </tbody>\n",
       "</table>\n",
       "</div>"
      ],
      "text/plain": [
       "  Customer ID    Name & Surname Birth Date  Sold date  Unit  Unit Price  \\\n",
       "0      LL1000       Eunice Bird 1995-08-03 2017-05-27   7.0        62.0   \n",
       "1      LL1001       James Gross 1982-02-12 2015-11-21  17.0        29.0   \n",
       "2      LL1002   Wilmer Atkinson 1962-01-01 2019-01-13  15.0        84.0   \n",
       "3      LL1003          Les Pena 1976-04-23 2017-03-26  30.0        97.0   \n",
       "4      LL1004      Britt Knight 1996-05-16 2015-05-23   6.0        70.0   \n",
       "\n",
       "   Annual Income Gender        City Location  \\\n",
       "0         6676.0      m   Barcelona     West   \n",
       "1        13471.0      m   Barcelona     West   \n",
       "2         8361.0      f     Brussel     West   \n",
       "3        16759.0      f   Stockholm    North   \n",
       "4        19397.0      m  Copenhagen    North   \n",
       "\n",
       "                                     Comments  Age  \n",
       "0                                     So good   24  \n",
       "1                                    Confused   37  \n",
       "2                                  It was bad   57  \n",
       "3               I did not like it, it was bad   43  \n",
       "4  That's the thing I want. Very good profuct   23  "
      ]
     },
     "execution_count": 60,
     "metadata": {},
     "output_type": "execute_result"
    }
   ],
   "source": [
    "data.head()"
   ]
  },
  {
   "cell_type": "markdown",
   "metadata": {},
   "source": [
    "---"
   ]
  },
  {
   "cell_type": "markdown",
   "metadata": {},
   "source": [
    "### 4"
   ]
  },
  {
   "cell_type": "code",
   "execution_count": 61,
   "metadata": {},
   "outputs": [],
   "source": [
    "data['Comments'] = data['Comments'].str.lower()"
   ]
  },
  {
   "cell_type": "code",
   "execution_count": 62,
   "metadata": {},
   "outputs": [],
   "source": [
    "data['Rates'] = np.where(data['Comments'].str.contains('good') | data['Comments'].str.contains('high'),'Liked',\n",
    "         np.where(data['Comments'].str.contains('bad'),\"Didn't liked\",'---'))"
   ]
  },
  {
   "cell_type": "code",
   "execution_count": 63,
   "metadata": {},
   "outputs": [
    {
     "data": {
      "text/html": [
       "<div>\n",
       "<style scoped>\n",
       "    .dataframe tbody tr th:only-of-type {\n",
       "        vertical-align: middle;\n",
       "    }\n",
       "\n",
       "    .dataframe tbody tr th {\n",
       "        vertical-align: top;\n",
       "    }\n",
       "\n",
       "    .dataframe thead th {\n",
       "        text-align: right;\n",
       "    }\n",
       "</style>\n",
       "<table border=\"1\" class=\"dataframe\">\n",
       "  <thead>\n",
       "    <tr style=\"text-align: right;\">\n",
       "      <th></th>\n",
       "      <th>Customer ID</th>\n",
       "      <th>Name &amp; Surname</th>\n",
       "      <th>Birth Date</th>\n",
       "      <th>Sold date</th>\n",
       "      <th>Unit</th>\n",
       "      <th>Unit Price</th>\n",
       "      <th>Annual Income</th>\n",
       "      <th>Gender</th>\n",
       "      <th>City</th>\n",
       "      <th>Location</th>\n",
       "      <th>Comments</th>\n",
       "      <th>Age</th>\n",
       "      <th>Rates</th>\n",
       "    </tr>\n",
       "  </thead>\n",
       "  <tbody>\n",
       "    <tr>\n",
       "      <th>0</th>\n",
       "      <td>LL1000</td>\n",
       "      <td>Eunice Bird</td>\n",
       "      <td>1995-08-03</td>\n",
       "      <td>2017-05-27</td>\n",
       "      <td>7.0</td>\n",
       "      <td>62.0</td>\n",
       "      <td>6676.0</td>\n",
       "      <td>m</td>\n",
       "      <td>Barcelona</td>\n",
       "      <td>West</td>\n",
       "      <td>so good</td>\n",
       "      <td>24</td>\n",
       "      <td>Liked</td>\n",
       "    </tr>\n",
       "    <tr>\n",
       "      <th>1</th>\n",
       "      <td>LL1001</td>\n",
       "      <td>James Gross</td>\n",
       "      <td>1982-02-12</td>\n",
       "      <td>2015-11-21</td>\n",
       "      <td>17.0</td>\n",
       "      <td>29.0</td>\n",
       "      <td>13471.0</td>\n",
       "      <td>m</td>\n",
       "      <td>Barcelona</td>\n",
       "      <td>West</td>\n",
       "      <td>confused</td>\n",
       "      <td>37</td>\n",
       "      <td>---</td>\n",
       "    </tr>\n",
       "    <tr>\n",
       "      <th>2</th>\n",
       "      <td>LL1002</td>\n",
       "      <td>Wilmer Atkinson</td>\n",
       "      <td>1962-01-01</td>\n",
       "      <td>2019-01-13</td>\n",
       "      <td>15.0</td>\n",
       "      <td>84.0</td>\n",
       "      <td>8361.0</td>\n",
       "      <td>f</td>\n",
       "      <td>Brussel</td>\n",
       "      <td>West</td>\n",
       "      <td>it was bad</td>\n",
       "      <td>57</td>\n",
       "      <td>Didn't liked</td>\n",
       "    </tr>\n",
       "    <tr>\n",
       "      <th>3</th>\n",
       "      <td>LL1003</td>\n",
       "      <td>Les Pena</td>\n",
       "      <td>1976-04-23</td>\n",
       "      <td>2017-03-26</td>\n",
       "      <td>30.0</td>\n",
       "      <td>97.0</td>\n",
       "      <td>16759.0</td>\n",
       "      <td>f</td>\n",
       "      <td>Stockholm</td>\n",
       "      <td>North</td>\n",
       "      <td>i did not like it, it was bad</td>\n",
       "      <td>43</td>\n",
       "      <td>Didn't liked</td>\n",
       "    </tr>\n",
       "    <tr>\n",
       "      <th>4</th>\n",
       "      <td>LL1004</td>\n",
       "      <td>Britt Knight</td>\n",
       "      <td>1996-05-16</td>\n",
       "      <td>2015-05-23</td>\n",
       "      <td>6.0</td>\n",
       "      <td>70.0</td>\n",
       "      <td>19397.0</td>\n",
       "      <td>m</td>\n",
       "      <td>Copenhagen</td>\n",
       "      <td>North</td>\n",
       "      <td>that's the thing i want. very good profuct</td>\n",
       "      <td>23</td>\n",
       "      <td>Liked</td>\n",
       "    </tr>\n",
       "  </tbody>\n",
       "</table>\n",
       "</div>"
      ],
      "text/plain": [
       "  Customer ID    Name & Surname Birth Date  Sold date  Unit  Unit Price  \\\n",
       "0      LL1000       Eunice Bird 1995-08-03 2017-05-27   7.0        62.0   \n",
       "1      LL1001       James Gross 1982-02-12 2015-11-21  17.0        29.0   \n",
       "2      LL1002   Wilmer Atkinson 1962-01-01 2019-01-13  15.0        84.0   \n",
       "3      LL1003          Les Pena 1976-04-23 2017-03-26  30.0        97.0   \n",
       "4      LL1004      Britt Knight 1996-05-16 2015-05-23   6.0        70.0   \n",
       "\n",
       "   Annual Income Gender        City Location  \\\n",
       "0         6676.0      m   Barcelona     West   \n",
       "1        13471.0      m   Barcelona     West   \n",
       "2         8361.0      f     Brussel     West   \n",
       "3        16759.0      f   Stockholm    North   \n",
       "4        19397.0      m  Copenhagen    North   \n",
       "\n",
       "                                     Comments  Age         Rates  \n",
       "0                                     so good   24         Liked  \n",
       "1                                    confused   37           ---  \n",
       "2                                  it was bad   57  Didn't liked  \n",
       "3               i did not like it, it was bad   43  Didn't liked  \n",
       "4  that's the thing i want. very good profuct   23         Liked  "
      ]
     },
     "execution_count": 63,
     "metadata": {},
     "output_type": "execute_result"
    }
   ],
   "source": [
    "data.head()"
   ]
  },
  {
   "cell_type": "markdown",
   "metadata": {},
   "source": [
    "### 5"
   ]
  },
  {
   "cell_type": "code",
   "execution_count": 64,
   "metadata": {},
   "outputs": [],
   "source": [
    "data['Sold Year'] = data['Sold date'].dt.year"
   ]
  },
  {
   "cell_type": "code",
   "execution_count": 65,
   "metadata": {},
   "outputs": [
    {
     "data": {
      "text/plain": [
       "6363.0"
      ]
     },
     "execution_count": 65,
     "metadata": {},
     "output_type": "execute_result"
    }
   ],
   "source": [
    "data[data['Sold Year'] == 2018]['Unit'].sum()"
   ]
  },
  {
   "cell_type": "code",
   "execution_count": 66,
   "metadata": {},
   "outputs": [
    {
     "data": {
      "text/html": [
       "<div>\n",
       "<style scoped>\n",
       "    .dataframe tbody tr th:only-of-type {\n",
       "        vertical-align: middle;\n",
       "    }\n",
       "\n",
       "    .dataframe tbody tr th {\n",
       "        vertical-align: top;\n",
       "    }\n",
       "\n",
       "    .dataframe thead th {\n",
       "        text-align: right;\n",
       "    }\n",
       "</style>\n",
       "<table border=\"1\" class=\"dataframe\">\n",
       "  <thead>\n",
       "    <tr style=\"text-align: right;\">\n",
       "      <th></th>\n",
       "      <th>Unit</th>\n",
       "      <th>Unit Price</th>\n",
       "      <th>Annual Income</th>\n",
       "      <th>Age</th>\n",
       "    </tr>\n",
       "    <tr>\n",
       "      <th>Sold Year</th>\n",
       "      <th></th>\n",
       "      <th></th>\n",
       "      <th></th>\n",
       "      <th></th>\n",
       "    </tr>\n",
       "  </thead>\n",
       "  <tbody>\n",
       "    <tr>\n",
       "      <th>2015</th>\n",
       "      <td>7365.0</td>\n",
       "      <td>22500.0</td>\n",
       "      <td>5.380204e+06</td>\n",
       "      <td>17536</td>\n",
       "    </tr>\n",
       "    <tr>\n",
       "      <th>2016</th>\n",
       "      <td>6746.0</td>\n",
       "      <td>21218.0</td>\n",
       "      <td>5.368903e+06</td>\n",
       "      <td>16419</td>\n",
       "    </tr>\n",
       "    <tr>\n",
       "      <th>2017</th>\n",
       "      <td>7631.0</td>\n",
       "      <td>24529.0</td>\n",
       "      <td>5.871986e+06</td>\n",
       "      <td>18428</td>\n",
       "    </tr>\n",
       "    <tr>\n",
       "      <th>2018</th>\n",
       "      <td>6363.0</td>\n",
       "      <td>20172.0</td>\n",
       "      <td>4.848226e+06</td>\n",
       "      <td>15248</td>\n",
       "    </tr>\n",
       "    <tr>\n",
       "      <th>2019</th>\n",
       "      <td>6806.0</td>\n",
       "      <td>22003.0</td>\n",
       "      <td>5.422963e+06</td>\n",
       "      <td>18054</td>\n",
       "    </tr>\n",
       "  </tbody>\n",
       "</table>\n",
       "</div>"
      ],
      "text/plain": [
       "             Unit  Unit Price  Annual Income    Age\n",
       "Sold Year                                          \n",
       "2015       7365.0     22500.0   5.380204e+06  17536\n",
       "2016       6746.0     21218.0   5.368903e+06  16419\n",
       "2017       7631.0     24529.0   5.871986e+06  18428\n",
       "2018       6363.0     20172.0   4.848226e+06  15248\n",
       "2019       6806.0     22003.0   5.422963e+06  18054"
      ]
     },
     "execution_count": 66,
     "metadata": {},
     "output_type": "execute_result"
    }
   ],
   "source": [
    "data.groupby('Sold Year').sum()"
   ]
  },
  {
   "cell_type": "markdown",
   "metadata": {},
   "source": [
    "### 6"
   ]
  },
  {
   "cell_type": "code",
   "execution_count": 67,
   "metadata": {},
   "outputs": [],
   "source": [
    "data['Total Sales'] = data['Unit'] * data['Unit Price']"
   ]
  },
  {
   "cell_type": "code",
   "execution_count": 68,
   "metadata": {},
   "outputs": [
    {
     "data": {
      "text/plain": [
       "364807.0"
      ]
     },
     "execution_count": 68,
     "metadata": {},
     "output_type": "execute_result"
    }
   ],
   "source": [
    "data[data['Sold Year'] == 2016]['Total Sales'].sum()"
   ]
  },
  {
   "cell_type": "markdown",
   "metadata": {},
   "source": [
    "### 7"
   ]
  },
  {
   "cell_type": "code",
   "execution_count": 69,
   "metadata": {},
   "outputs": [
    {
     "data": {
      "text/plain": [
       "Total Sales    374461.0\n",
       "Name: 2019, dtype: float64"
      ]
     },
     "execution_count": 69,
     "metadata": {},
     "output_type": "execute_result"
    }
   ],
   "source": [
    "data.groupby('Sold Year').sum()[['Total Sales']].loc[2019]"
   ]
  },
  {
   "cell_type": "code",
   "execution_count": 70,
   "metadata": {},
   "outputs": [
    {
     "data": {
      "text/plain": [
       "Total Sales    399869.0\n",
       "Name: 2015, dtype: float64"
      ]
     },
     "execution_count": 70,
     "metadata": {},
     "output_type": "execute_result"
    }
   ],
   "source": [
    "data.groupby('Sold Year').sum()[['Total Sales']].loc[2015]"
   ]
  },
  {
   "cell_type": "code",
   "execution_count": 71,
   "metadata": {},
   "outputs": [
    {
     "data": {
      "text/plain": [
       "Total Sales    25408.0\n",
       "dtype: float64"
      ]
     },
     "execution_count": 71,
     "metadata": {},
     "output_type": "execute_result"
    }
   ],
   "source": [
    "data.groupby('Sold Year').sum()[['Total Sales']].loc[2015] - data.groupby('Sold Year').sum()[['Total Sales']].loc[2019]"
   ]
  },
  {
   "cell_type": "markdown",
   "metadata": {},
   "source": [
    "----"
   ]
  },
  {
   "cell_type": "markdown",
   "metadata": {},
   "source": [
    "### 8"
   ]
  },
  {
   "cell_type": "code",
   "execution_count": 72,
   "metadata": {},
   "outputs": [
    {
     "data": {
      "text/html": [
       "<div>\n",
       "<style scoped>\n",
       "    .dataframe tbody tr th:only-of-type {\n",
       "        vertical-align: middle;\n",
       "    }\n",
       "\n",
       "    .dataframe tbody tr th {\n",
       "        vertical-align: top;\n",
       "    }\n",
       "\n",
       "    .dataframe thead th {\n",
       "        text-align: right;\n",
       "    }\n",
       "</style>\n",
       "<table border=\"1\" class=\"dataframe\">\n",
       "  <thead>\n",
       "    <tr style=\"text-align: right;\">\n",
       "      <th></th>\n",
       "      <th>Unit</th>\n",
       "      <th>Unit Price</th>\n",
       "      <th>Annual Income</th>\n",
       "      <th>Age</th>\n",
       "      <th>Sold Year</th>\n",
       "      <th>Total Sales</th>\n",
       "    </tr>\n",
       "  </thead>\n",
       "  <tbody>\n",
       "    <tr>\n",
       "      <th>count</th>\n",
       "      <td>1992.000000</td>\n",
       "      <td>1985.000000</td>\n",
       "      <td>2000.000000</td>\n",
       "      <td>2000.00000</td>\n",
       "      <td>2000.000000</td>\n",
       "      <td>1977.000000</td>\n",
       "    </tr>\n",
       "    <tr>\n",
       "      <th>mean</th>\n",
       "      <td>17.525602</td>\n",
       "      <td>55.628212</td>\n",
       "      <td>13446.141566</td>\n",
       "      <td>42.84250</td>\n",
       "      <td>2016.972000</td>\n",
       "      <td>969.062215</td>\n",
       "    </tr>\n",
       "    <tr>\n",
       "      <th>std</th>\n",
       "      <td>9.209834</td>\n",
       "      <td>26.440568</td>\n",
       "      <td>6524.094649</td>\n",
       "      <td>15.45811</td>\n",
       "      <td>1.413228</td>\n",
       "      <td>720.005898</td>\n",
       "    </tr>\n",
       "    <tr>\n",
       "      <th>min</th>\n",
       "      <td>2.000000</td>\n",
       "      <td>10.000000</td>\n",
       "      <td>2505.000000</td>\n",
       "      <td>0.00000</td>\n",
       "      <td>2015.000000</td>\n",
       "      <td>20.000000</td>\n",
       "    </tr>\n",
       "    <tr>\n",
       "      <th>25%</th>\n",
       "      <td>10.000000</td>\n",
       "      <td>33.000000</td>\n",
       "      <td>7836.500000</td>\n",
       "      <td>30.00000</td>\n",
       "      <td>2016.000000</td>\n",
       "      <td>384.000000</td>\n",
       "    </tr>\n",
       "    <tr>\n",
       "      <th>50%</th>\n",
       "      <td>17.000000</td>\n",
       "      <td>56.000000</td>\n",
       "      <td>13334.500000</td>\n",
       "      <td>43.00000</td>\n",
       "      <td>2017.000000</td>\n",
       "      <td>780.000000</td>\n",
       "    </tr>\n",
       "    <tr>\n",
       "      <th>75%</th>\n",
       "      <td>26.000000</td>\n",
       "      <td>78.000000</td>\n",
       "      <td>19170.750000</td>\n",
       "      <td>56.00000</td>\n",
       "      <td>2018.000000</td>\n",
       "      <td>1416.000000</td>\n",
       "    </tr>\n",
       "    <tr>\n",
       "      <th>max</th>\n",
       "      <td>33.000000</td>\n",
       "      <td>100.000000</td>\n",
       "      <td>24992.000000</td>\n",
       "      <td>69.00000</td>\n",
       "      <td>2019.000000</td>\n",
       "      <td>3104.000000</td>\n",
       "    </tr>\n",
       "  </tbody>\n",
       "</table>\n",
       "</div>"
      ],
      "text/plain": [
       "              Unit   Unit Price  Annual Income         Age    Sold Year  \\\n",
       "count  1992.000000  1985.000000    2000.000000  2000.00000  2000.000000   \n",
       "mean     17.525602    55.628212   13446.141566    42.84250  2016.972000   \n",
       "std       9.209834    26.440568    6524.094649    15.45811     1.413228   \n",
       "min       2.000000    10.000000    2505.000000     0.00000  2015.000000   \n",
       "25%      10.000000    33.000000    7836.500000    30.00000  2016.000000   \n",
       "50%      17.000000    56.000000   13334.500000    43.00000  2017.000000   \n",
       "75%      26.000000    78.000000   19170.750000    56.00000  2018.000000   \n",
       "max      33.000000   100.000000   24992.000000    69.00000  2019.000000   \n",
       "\n",
       "       Total Sales  \n",
       "count  1977.000000  \n",
       "mean    969.062215  \n",
       "std     720.005898  \n",
       "min      20.000000  \n",
       "25%     384.000000  \n",
       "50%     780.000000  \n",
       "75%    1416.000000  \n",
       "max    3104.000000  "
      ]
     },
     "execution_count": 72,
     "metadata": {},
     "output_type": "execute_result"
    }
   ],
   "source": [
    "data.describe()"
   ]
  },
  {
   "cell_type": "code",
   "execution_count": 73,
   "metadata": {},
   "outputs": [],
   "source": [
    "data.loc[data['Age'] < 15,'Age'] = data[data['Age']>15]['Age'].mean()"
   ]
  },
  {
   "cell_type": "markdown",
   "metadata": {},
   "source": [
    "-----"
   ]
  },
  {
   "cell_type": "markdown",
   "metadata": {},
   "source": [
    "### 9"
   ]
  },
  {
   "cell_type": "code",
   "execution_count": 74,
   "metadata": {},
   "outputs": [],
   "source": [
    "data['Month_name'] = data['Birth Date'].dt.month_name()"
   ]
  },
  {
   "cell_type": "code",
   "execution_count": 75,
   "metadata": {},
   "outputs": [
    {
     "data": {
      "text/plain": [
       "December     44\n",
       "July         42\n",
       "January      42\n",
       "August       38\n",
       "March        36\n",
       "April        35\n",
       "November     34\n",
       "September    32\n",
       "June         30\n",
       "May          30\n",
       "October      29\n",
       "February     24\n",
       "Name: Month_name, dtype: int64"
      ]
     },
     "execution_count": 75,
     "metadata": {},
     "output_type": "execute_result"
    }
   ],
   "source": [
    "data[data['Annual Income'] > 20000]['Month_name'].value_counts()"
   ]
  },
  {
   "cell_type": "markdown",
   "metadata": {},
   "source": [
    "### 10"
   ]
  },
  {
   "cell_type": "code",
   "execution_count": 76,
   "metadata": {},
   "outputs": [
    {
     "data": {
      "text/plain": [
       "North     215\n",
       "Center    201\n",
       "West      194\n",
       "South     183\n",
       "East       95\n",
       "Name: Location, dtype: int64"
      ]
     },
     "execution_count": 76,
     "metadata": {},
     "output_type": "execute_result"
    }
   ],
   "source": [
    "data[data['Rates'] == \"Didn't liked\"]['Location'].value_counts()"
   ]
  },
  {
   "cell_type": "markdown",
   "metadata": {},
   "source": [
    "### 11"
   ]
  },
  {
   "cell_type": "code",
   "execution_count": 77,
   "metadata": {},
   "outputs": [
    {
     "data": {
      "text/html": [
       "<div>\n",
       "<style scoped>\n",
       "    .dataframe tbody tr th:only-of-type {\n",
       "        vertical-align: middle;\n",
       "    }\n",
       "\n",
       "    .dataframe tbody tr th {\n",
       "        vertical-align: top;\n",
       "    }\n",
       "\n",
       "    .dataframe thead th {\n",
       "        text-align: right;\n",
       "    }\n",
       "</style>\n",
       "<table border=\"1\" class=\"dataframe\">\n",
       "  <thead>\n",
       "    <tr style=\"text-align: right;\">\n",
       "      <th></th>\n",
       "      <th>Unit</th>\n",
       "      <th>Unit Price</th>\n",
       "      <th>Annual Income</th>\n",
       "      <th>Age</th>\n",
       "      <th>Sold Year</th>\n",
       "      <th>Total Sales</th>\n",
       "    </tr>\n",
       "    <tr>\n",
       "      <th>Gender</th>\n",
       "      <th></th>\n",
       "      <th></th>\n",
       "      <th></th>\n",
       "      <th></th>\n",
       "      <th></th>\n",
       "      <th></th>\n",
       "    </tr>\n",
       "  </thead>\n",
       "  <tbody>\n",
       "    <tr>\n",
       "      <th>f</th>\n",
       "      <td>2037.0</td>\n",
       "      <td>6531.0</td>\n",
       "      <td>1526294.0</td>\n",
       "      <td>5244.932798</td>\n",
       "      <td>233988</td>\n",
       "      <td>113351.0</td>\n",
       "    </tr>\n",
       "    <tr>\n",
       "      <th>m</th>\n",
       "      <td>1729.0</td>\n",
       "      <td>5857.0</td>\n",
       "      <td>1419100.0</td>\n",
       "      <td>4369.000000</td>\n",
       "      <td>207756</td>\n",
       "      <td>97187.0</td>\n",
       "    </tr>\n",
       "  </tbody>\n",
       "</table>\n",
       "</div>"
      ],
      "text/plain": [
       "          Unit  Unit Price  Annual Income          Age  Sold Year  Total Sales\n",
       "Gender                                                                        \n",
       "f       2037.0      6531.0      1526294.0  5244.932798     233988     113351.0\n",
       "m       1729.0      5857.0      1419100.0  4369.000000     207756      97187.0"
      ]
     },
     "execution_count": 77,
     "metadata": {},
     "output_type": "execute_result"
    }
   ],
   "source": [
    "data[data['City'] == 'Barcelona'].groupby('Gender').sum()"
   ]
  },
  {
   "cell_type": "markdown",
   "metadata": {},
   "source": [
    "### 12"
   ]
  },
  {
   "cell_type": "code",
   "execution_count": 78,
   "metadata": {},
   "outputs": [],
   "source": [
    "a  = data[data['Rates'] == 'Liked']['Annual Income'].mean()"
   ]
  },
  {
   "cell_type": "code",
   "execution_count": 79,
   "metadata": {},
   "outputs": [],
   "source": [
    "b = data[data['Rates'] == \"Didn't liked\"]['Annual Income'].mean()"
   ]
  },
  {
   "cell_type": "code",
   "execution_count": 80,
   "metadata": {},
   "outputs": [
    {
     "data": {
      "text/plain": [
       "-280.24916790067255"
      ]
     },
     "execution_count": 80,
     "metadata": {},
     "output_type": "execute_result"
    }
   ],
   "source": [
    "a - b"
   ]
  },
  {
   "cell_type": "markdown",
   "metadata": {},
   "source": [
    "### 13"
   ]
  },
  {
   "cell_type": "code",
   "execution_count": 81,
   "metadata": {},
   "outputs": [
    {
     "data": {
      "text/html": [
       "<div>\n",
       "<style scoped>\n",
       "    .dataframe tbody tr th:only-of-type {\n",
       "        vertical-align: middle;\n",
       "    }\n",
       "\n",
       "    .dataframe tbody tr th {\n",
       "        vertical-align: top;\n",
       "    }\n",
       "\n",
       "    .dataframe thead th {\n",
       "        text-align: right;\n",
       "    }\n",
       "</style>\n",
       "<table border=\"1\" class=\"dataframe\">\n",
       "  <thead>\n",
       "    <tr style=\"text-align: right;\">\n",
       "      <th></th>\n",
       "      <th></th>\n",
       "      <th>Total Sales</th>\n",
       "    </tr>\n",
       "    <tr>\n",
       "      <th>Gender</th>\n",
       "      <th>Sold Year</th>\n",
       "      <th></th>\n",
       "    </tr>\n",
       "  </thead>\n",
       "  <tbody>\n",
       "    <tr>\n",
       "      <th rowspan=\"5\" valign=\"top\">f</th>\n",
       "      <th>2015</th>\n",
       "      <td>215778.0</td>\n",
       "    </tr>\n",
       "    <tr>\n",
       "      <th>2016</th>\n",
       "      <td>167215.0</td>\n",
       "    </tr>\n",
       "    <tr>\n",
       "      <th>2017</th>\n",
       "      <td>218773.0</td>\n",
       "    </tr>\n",
       "    <tr>\n",
       "      <th>2018</th>\n",
       "      <td>174681.0</td>\n",
       "    </tr>\n",
       "    <tr>\n",
       "      <th>2019</th>\n",
       "      <td>176204.0</td>\n",
       "    </tr>\n",
       "    <tr>\n",
       "      <th rowspan=\"5\" valign=\"top\">m</th>\n",
       "      <th>2015</th>\n",
       "      <td>184091.0</td>\n",
       "    </tr>\n",
       "    <tr>\n",
       "      <th>2016</th>\n",
       "      <td>197592.0</td>\n",
       "    </tr>\n",
       "    <tr>\n",
       "      <th>2017</th>\n",
       "      <td>208124.0</td>\n",
       "    </tr>\n",
       "    <tr>\n",
       "      <th>2018</th>\n",
       "      <td>175121.0</td>\n",
       "    </tr>\n",
       "    <tr>\n",
       "      <th>2019</th>\n",
       "      <td>198257.0</td>\n",
       "    </tr>\n",
       "  </tbody>\n",
       "</table>\n",
       "</div>"
      ],
      "text/plain": [
       "                  Total Sales\n",
       "Gender Sold Year             \n",
       "f      2015          215778.0\n",
       "       2016          167215.0\n",
       "       2017          218773.0\n",
       "       2018          174681.0\n",
       "       2019          176204.0\n",
       "m      2015          184091.0\n",
       "       2016          197592.0\n",
       "       2017          208124.0\n",
       "       2018          175121.0\n",
       "       2019          198257.0"
      ]
     },
     "execution_count": 81,
     "metadata": {},
     "output_type": "execute_result"
    }
   ],
   "source": [
    "data.groupby(['Gender','Sold Year']).sum()[['Total Sales']]"
   ]
  },
  {
   "cell_type": "markdown",
   "metadata": {},
   "source": [
    "### 14"
   ]
  },
  {
   "cell_type": "code",
   "execution_count": 82,
   "metadata": {},
   "outputs": [
    {
     "data": {
      "text/html": [
       "<div>\n",
       "<style scoped>\n",
       "    .dataframe tbody tr th:only-of-type {\n",
       "        vertical-align: middle;\n",
       "    }\n",
       "\n",
       "    .dataframe tbody tr th {\n",
       "        vertical-align: top;\n",
       "    }\n",
       "\n",
       "    .dataframe thead th {\n",
       "        text-align: right;\n",
       "    }\n",
       "</style>\n",
       "<table border=\"1\" class=\"dataframe\">\n",
       "  <thead>\n",
       "    <tr style=\"text-align: right;\">\n",
       "      <th></th>\n",
       "      <th></th>\n",
       "      <th>Total Sales</th>\n",
       "    </tr>\n",
       "    <tr>\n",
       "      <th>Location</th>\n",
       "      <th>City</th>\n",
       "      <th></th>\n",
       "    </tr>\n",
       "  </thead>\n",
       "  <tbody>\n",
       "    <tr>\n",
       "      <th rowspan=\"2\" valign=\"top\">Center</th>\n",
       "      <th>Berlin</th>\n",
       "      <td>214722.0</td>\n",
       "    </tr>\n",
       "    <tr>\n",
       "      <th>Vienna</th>\n",
       "      <td>202648.0</td>\n",
       "    </tr>\n",
       "    <tr>\n",
       "      <th>East</th>\n",
       "      <th>Bucharest</th>\n",
       "      <td>233287.0</td>\n",
       "    </tr>\n",
       "    <tr>\n",
       "      <th rowspan=\"2\" valign=\"top\">North</th>\n",
       "      <th>Copenhagen</th>\n",
       "      <td>235463.0</td>\n",
       "    </tr>\n",
       "    <tr>\n",
       "      <th>Stockholm</th>\n",
       "      <td>217493.0</td>\n",
       "    </tr>\n",
       "    <tr>\n",
       "      <th rowspan=\"2\" valign=\"top\">South</th>\n",
       "      <th>Baku</th>\n",
       "      <td>186004.0</td>\n",
       "    </tr>\n",
       "    <tr>\n",
       "      <th>Istanbul</th>\n",
       "      <td>210819.0</td>\n",
       "    </tr>\n",
       "    <tr>\n",
       "      <th rowspan=\"2\" valign=\"top\">West</th>\n",
       "      <th>Barcelona</th>\n",
       "      <td>210538.0</td>\n",
       "    </tr>\n",
       "    <tr>\n",
       "      <th>Brussel</th>\n",
       "      <td>204862.0</td>\n",
       "    </tr>\n",
       "  </tbody>\n",
       "</table>\n",
       "</div>"
      ],
      "text/plain": [
       "                     Total Sales\n",
       "Location City                   \n",
       "Center   Berlin         214722.0\n",
       "         Vienna         202648.0\n",
       "East     Bucharest      233287.0\n",
       "North    Copenhagen     235463.0\n",
       "         Stockholm      217493.0\n",
       "South    Baku           186004.0\n",
       "         Istanbul       210819.0\n",
       "West     Barcelona      210538.0\n",
       "         Brussel        204862.0"
      ]
     },
     "execution_count": 82,
     "metadata": {},
     "output_type": "execute_result"
    }
   ],
   "source": [
    "data.groupby(['Location','City']).sum()[['Total Sales']]"
   ]
  },
  {
   "cell_type": "code",
   "execution_count": null,
   "metadata": {},
   "outputs": [],
   "source": []
  }
 ],
 "metadata": {
  "kernelspec": {
   "display_name": "Python 3",
   "language": "python",
   "name": "python3"
  },
  "language_info": {
   "codemirror_mode": {
    "name": "ipython",
    "version": 3
   },
   "file_extension": ".py",
   "mimetype": "text/x-python",
   "name": "python",
   "nbconvert_exporter": "python",
   "pygments_lexer": "ipython3",
   "version": "3.7.3"
  }
 },
 "nbformat": 4,
 "nbformat_minor": 2
}
